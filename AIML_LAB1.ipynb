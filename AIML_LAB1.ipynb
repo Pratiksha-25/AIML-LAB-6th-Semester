{
  "nbformat": 4,
  "nbformat_minor": 0,
  "metadata": {
    "colab": {
      "provenance": [],
      "authorship_tag": "ABX9TyNRc46brIGqdxaSQ3P3Ya2e",
      "include_colab_link": true
    },
    "kernelspec": {
      "name": "python3",
      "display_name": "Python 3"
    },
    "language_info": {
      "name": "python"
    }
  },
  "cells": [
    {
      "cell_type": "markdown",
      "metadata": {
        "id": "view-in-github",
        "colab_type": "text"
      },
      "source": [
        "<a href=\"https://colab.research.google.com/github/Pratiksha-25/AIML-LAB-6th-Semester/blob/main/AIML_LAB1.ipynb\" target=\"_parent\"><img src=\"https://colab.research.google.com/assets/colab-badge.svg\" alt=\"Open In Colab\"/></a>"
      ]
    },
    {
      "cell_type": "code",
      "execution_count": 1,
      "metadata": {
        "colab": {
          "base_uri": "https://localhost:8080/"
        },
        "id": "WTqb6ArUL6Hg",
        "outputId": "d95ad656-a8e5-476b-bae3-8e9da61a3f08"
      },
      "outputs": [
        {
          "output_type": "stream",
          "name": "stdout",
          "text": [
            "enter the value 45\n",
            "enter the value60\n",
            "sum is  105.0\n",
            "difference is -15.0\n",
            "product is  2700.0\n",
            "quotient is 0.75\n",
            "power is  1.5586579769168434e+99\n",
            "remainder is  45.0\n"
          ]
        }
      ],
      "source": [
        "num1=float(input(\"enter the value \"))\n",
        "num2=float(input(\"enter the value\"))\n",
        "sum=num1+num2\n",
        "diff=num1-num2\n",
        "product=num1*num2\n",
        "quotient=num1/num2\n",
        "power=num1**num2\n",
        "remainder=num1%num2\n",
        "print(\"sum is \",sum)\n",
        "print(\"difference is\",diff)\n",
        "print(\"product is \", product)\n",
        "print(\"quotient is\",quotient)\n",
        "print(\"power is \",power)\n",
        "print(\"remainder is \",remainder)"
      ]
    },
    {
      "cell_type": "code",
      "source": [
        "var1 = int(input(\"enter a number \"))\n",
        "var2 = input(\"enter a string \")\n",
        "var3 = input(\"enter a string \")\n",
        "var4 = float(input(\"enter a number \"))\n",
        "var5 = input(\"enter True or False \")\n",
        "\n",
        "# Convert var5 to a Boolean value\n",
        "if var5.lower() == \"true\":\n",
        "    var5 = True\n",
        "else:\n",
        "    var5 = False\n",
        "\n",
        "sum = var1 + var4\n",
        "concat = var2 + var3\n",
        "\n",
        "if var5 == True:\n",
        "    print(\"it is true\")\n",
        "\n",
        "print(\"the sum is \", sum)\n",
        "print(\"concatenation is \", concat)"
      ],
      "metadata": {
        "colab": {
          "base_uri": "https://localhost:8080/"
        },
        "id": "Gb_p70isOjqT",
        "outputId": "17942537-1873-4c99-8c34-57d2a8173723"
      },
      "execution_count": 2,
      "outputs": [
        {
          "output_type": "stream",
          "name": "stdout",
          "text": [
            "enter a number 12\n",
            "enter a string 24\n",
            "enter a string pb\n",
            "enter a number 65\n",
            "enter True or False true\n",
            "it is true\n",
            "the sum is  77.0\n",
            "concatenation is  24pb\n"
          ]
        }
      ]
    },
    {
      "cell_type": "code",
      "source": [
        "name = input(\"Please enter your name: \")\n",
        "print(f\"Hello, {name}!\")\n",
        "birth_year = input(\"Please enter your birth year: \")\n",
        "birth_year = int(birth_year)\n",
        "from datetime import datetime\n",
        "current_year = datetime.now().year\n",
        "age = current_year - birth_year\n",
        "print(f\"{name}, you are {age} years old.\")\n"
      ],
      "metadata": {
        "colab": {
          "base_uri": "https://localhost:8080/"
        },
        "id": "0c7xzEJIO9jF",
        "outputId": "213db7dd-cfa2-4bc5-e690-1a3b08dd88b1"
      },
      "execution_count": 3,
      "outputs": [
        {
          "output_type": "stream",
          "name": "stdout",
          "text": [
            "Please enter your name: Pratiksha\n",
            "Hello, Pratiksha!\n",
            "Please enter your birth year: 2002\n",
            "Pratiksha, you are 23 years old.\n"
          ]
        }
      ]
    },
    {
      "cell_type": "code",
      "source": [
        "num=int(input(\"enter a number \"))\n",
        "if (num%2)==0:\n",
        "    print(f\"the given{num} number is even.\")\n",
        "else :\n",
        "    print(\"the given number is odd\")\n"
      ],
      "metadata": {
        "colab": {
          "base_uri": "https://localhost:8080/"
        },
        "id": "H1p6HVclPE3C",
        "outputId": "47033943-2c24-4495-9017-09763c90ed85"
      },
      "execution_count": 4,
      "outputs": [
        {
          "output_type": "stream",
          "name": "stdout",
          "text": [
            "enter a number 12\n",
            "the given12 number is even.\n"
          ]
        }
      ]
    },
    {
      "cell_type": "code",
      "source": [
        "print(\"Numbers from 21 to 30 using a for loop:\")\n",
        "for i in range(21, 31):\n",
        "    print(i)\n"
      ],
      "metadata": {
        "colab": {
          "base_uri": "https://localhost:8080/"
        },
        "id": "wvP9WaAMPKgf",
        "outputId": "1c3f040b-b974-4204-b8e3-999585a166aa"
      },
      "execution_count": 5,
      "outputs": [
        {
          "output_type": "stream",
          "name": "stdout",
          "text": [
            "Numbers from 21 to 30 using a for loop:\n",
            "21\n",
            "22\n",
            "23\n",
            "24\n",
            "25\n",
            "26\n",
            "27\n",
            "28\n",
            "29\n",
            "30\n"
          ]
        }
      ]
    },
    {
      "cell_type": "code",
      "source": [
        "fruits = [\"apple\", \"banana\", \"cherry\", \"date\"]\n",
        "print(\"Original list:\", fruits)\n",
        "first_fruit = fruits[0]\n",
        "second_fruit = fruits[1]\n",
        "print(\"First fruit:\", first_fruit)\n",
        "print(\"Second fruit:\", second_fruit)\n",
        "fruits[1] = \"blueberry\"\n",
        "print(\"Modified list:\", fruits)\n",
        "fruits.append(\"elderberry\")\n",
        "print(\"List after adding an element:\", fruits)\n",
        "fruits.remove(\"cherry\")\n",
        "print(\"List after removing an element:\", fruits)\n",
        "length_of_list = len(fruits)\n",
        "print(\"Length of the list:\", length_of_list)\n",
        "fruits.sort()\n",
        "print(\"List sorted in ascending order:\", fruits)\n",
        "fruits.sort(reverse=True)\n",
        "print(\"List sorted in descending order:\", fruits)\n"
      ],
      "metadata": {
        "colab": {
          "base_uri": "https://localhost:8080/"
        },
        "id": "WbV9XbLwPOrJ",
        "outputId": "5568b50b-4ea0-4f31-be52-fa2af1075465"
      },
      "execution_count": 6,
      "outputs": [
        {
          "output_type": "stream",
          "name": "stdout",
          "text": [
            "Original list: ['apple', 'banana', 'cherry', 'date']\n",
            "First fruit: apple\n",
            "Second fruit: banana\n",
            "Modified list: ['apple', 'blueberry', 'cherry', 'date']\n",
            "List after adding an element: ['apple', 'blueberry', 'cherry', 'date', 'elderberry']\n",
            "List after removing an element: ['apple', 'blueberry', 'date', 'elderberry']\n",
            "Length of the list: 4\n",
            "List sorted in ascending order: ['apple', 'blueberry', 'date', 'elderberry']\n",
            "List sorted in descending order: ['elderberry', 'date', 'blueberry', 'apple']\n"
          ]
        }
      ]
    },
    {
      "cell_type": "code",
      "source": [
        "my_string = \"Hello noobs, welcome to the world of Python programming!\"\n",
        "string_length = len(my_string)\n",
        "print(\"Length of the string:\", string_length)\n",
        "uppercase_string = my_string.upper()\n",
        "print(\"Uppercase string:\", uppercase_string)\n",
        "lowercase_string = my_string.lower()\n",
        "print(\"Lowercase string:\", lowercase_string)\n",
        "substring = \"noobs\"\n",
        "substring_exists = substring in my_string\n",
        "print(f\"Does the substring '{substring}' exist in the string?:\", substring_exists)\n",
        "words_list = my_string.split()\n",
        "print(\"List of words:\", words_list)\n"
      ],
      "metadata": {
        "colab": {
          "base_uri": "https://localhost:8080/"
        },
        "id": "rIAVOyBKPSwo",
        "outputId": "e35f8ac7-a46e-45a5-edca-06206d978b4e"
      },
      "execution_count": 7,
      "outputs": [
        {
          "output_type": "stream",
          "name": "stdout",
          "text": [
            "Length of the string: 56\n",
            "Uppercase string: HELLO NOOBS, WELCOME TO THE WORLD OF PYTHON PROGRAMMING!\n",
            "Lowercase string: hello noobs, welcome to the world of python programming!\n",
            "Does the substring 'noobs' exist in the string?: True\n",
            "List of words: ['Hello', 'noobs,', 'welcome', 'to', 'the', 'world', 'of', 'Python', 'programming!']\n"
          ]
        }
      ]
    },
    {
      "cell_type": "code",
      "source": [
        "def find_largest_and_smallest(numbers):\n",
        "    largest = smallest = numbers[0]\n",
        "    for num in numbers[1:]:\n",
        "       if num > largest:\n",
        "            largest = num\n",
        "       elif num < smallest:\n",
        "            smallest = num\n",
        "    return largest, smallest\n",
        "numbers = [-3, 4, 5, 16, 21,-21, 13, 10]\n",
        "largest, smallest = find_largest_and_smallest(numbers)\n",
        "print(f\"Largest number: {largest}\")\n",
        "print(f\"Smallest number: {smallest}\")\n"
      ],
      "metadata": {
        "colab": {
          "base_uri": "https://localhost:8080/"
        },
        "id": "U1wyCabtPWw5",
        "outputId": "4b7f2b4e-4604-4ef1-d190-ed53d2452b64"
      },
      "execution_count": 8,
      "outputs": [
        {
          "output_type": "stream",
          "name": "stdout",
          "text": [
            "Largest number: 21\n",
            "Smallest number: -21\n"
          ]
        }
      ]
    }
  ]
}