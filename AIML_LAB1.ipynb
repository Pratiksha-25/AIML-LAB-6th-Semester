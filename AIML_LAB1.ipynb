{
  "nbformat": 4,
  "nbformat_minor": 0,
  "metadata": {
    "colab": {
      "provenance": [],
      "authorship_tag": "ABX9TyNAlXYvYi6caNazhhbswWOR",
      "include_colab_link": true
    },
    "kernelspec": {
      "name": "python3",
      "display_name": "Python 3"
    },
    "language_info": {
      "name": "python"
    }
  },
  "cells": [
    {
      "cell_type": "markdown",
      "metadata": {
        "id": "view-in-github",
        "colab_type": "text"
      },
      "source": [
        "<a href=\"https://colab.research.google.com/github/Pratiksha-25/AIML-LAB-6th-Semester/blob/main/AIML_LAB1.ipynb\" target=\"_parent\"><img src=\"https://colab.research.google.com/assets/colab-badge.svg\" alt=\"Open In Colab\"/></a>"
      ]
    },
    {
      "cell_type": "code",
      "execution_count": 1,
      "metadata": {
        "colab": {
          "base_uri": "https://localhost:8080/"
        },
        "id": "WTqb6ArUL6Hg",
        "outputId": "d95ad656-a8e5-476b-bae3-8e9da61a3f08"
      },
      "outputs": [
        {
          "output_type": "stream",
          "name": "stdout",
          "text": [
            "enter the value 45\n",
            "enter the value60\n",
            "sum is  105.0\n",
            "difference is -15.0\n",
            "product is  2700.0\n",
            "quotient is 0.75\n",
            "power is  1.5586579769168434e+99\n",
            "remainder is  45.0\n"
          ]
        }
      ],
      "source": [
        "num1=float(input(\"enter the value \"))\n",
        "num2=float(input(\"enter the value\"))\n",
        "sum=num1+num2\n",
        "diff=num1-num2\n",
        "product=num1*num2\n",
        "quotient=num1/num2\n",
        "power=num1**num2\n",
        "remainder=num1%num2\n",
        "print(\"sum is \",sum)\n",
        "print(\"difference is\",diff)\n",
        "print(\"product is \", product)\n",
        "print(\"quotient is\",quotient)\n",
        "print(\"power is \",power)\n",
        "print(\"remainder is \",remainder)"
      ]
    }
  ]
}