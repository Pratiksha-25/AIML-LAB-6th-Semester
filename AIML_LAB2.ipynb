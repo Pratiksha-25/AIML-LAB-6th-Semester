{
  "nbformat": 4,
  "nbformat_minor": 0,
  "metadata": {
    "colab": {
      "provenance": [],
      "authorship_tag": "ABX9TyOIC7ErxK6gZOI9/gra2DmT",
      "include_colab_link": true
    },
    "kernelspec": {
      "name": "python3",
      "display_name": "Python 3"
    },
    "language_info": {
      "name": "python"
    }
  },
  "cells": [
    {
      "cell_type": "markdown",
      "metadata": {
        "id": "view-in-github",
        "colab_type": "text"
      },
      "source": [
        "<a href=\"https://colab.research.google.com/github/Pratiksha-25/AIML-LAB-6th-Semester/blob/main/AIML_LAB2.ipynb\" target=\"_parent\"><img src=\"https://colab.research.google.com/assets/colab-badge.svg\" alt=\"Open In Colab\"/></a>"
      ]
    },
    {
      "cell_type": "code",
      "execution_count": 1,
      "metadata": {
        "colab": {
          "base_uri": "https://localhost:8080/"
        },
        "id": "fR7B2j6wRi9u",
        "outputId": "41bc8b04-119a-4f5d-bf47-576052c6452c"
      },
      "outputs": [
        {
          "output_type": "stream",
          "name": "stdout",
          "text": [
            "First color: red\n",
            "Last color: red\n",
            "Number of times 'red' appears: 3\n"
          ]
        }
      ],
      "source": [
        "colors = (\"red\", \"blue\", \"red\", \"yellow\", \"red\")\n",
        "print(\"First color:\", colors[0])\n",
        "print(\"Last color:\", colors[-1])\n",
        "red_count = colors.count(\"red\")\n",
        "print(\"Number of times 'red' appears:\", red_count)\n"
      ]
    },
    {
      "cell_type": "code",
      "source": [
        "person = {\n",
        "    \"name\": \"pratiksha\",\n",
        "    \"age\":20,\n",
        "    \"city\": \"Dehradun\"\n",
        "}\n",
        "print(\"Name:\", person[\"name\"])\n",
        "print(\"Age:\", person[\"age\"])\n",
        "print(\"City:\", person[\"city\"])\n",
        "person[\"email\"] = \"pratikshabahuguna25i@gmail.com\"\n",
        "print(\"Updated dictionary with email:\", person)\n",
        "person[\"age\"] = 22\n",
        "print(\"Updated dictionary with modified age:\", person)\n",
        "if \"city\" in person:\n",
        "    print(\"Key 'city' exists in the dictionary\")\n",
        "\n",
        "keys = person.keys()\n",
        "values = person.values()\n",
        "print(\"Keys:\", list(keys))\n",
        "print(\"Values:\", list(values))\n"
      ],
      "metadata": {
        "colab": {
          "base_uri": "https://localhost:8080/"
        },
        "id": "v7pVhIn5SEvR",
        "outputId": "060030fa-ef84-402c-db59-cd8c76b14027"
      },
      "execution_count": 3,
      "outputs": [
        {
          "output_type": "stream",
          "name": "stdout",
          "text": [
            "Name: pratiksha\n",
            "Age: 20\n",
            "City: Dehradun\n",
            "Updated dictionary with email: {'name': 'pratiksha', 'age': 20, 'city': 'Dehradun', 'email': 'pratikshabahuguna25i@gmail.com'}\n",
            "Updated dictionary with modified age: {'name': 'pratiksha', 'age': 22, 'city': 'Dehradun', 'email': 'pratikshabahuguna25i@gmail.com'}\n",
            "Key 'city' exists in the dictionary\n",
            "Keys: ['name', 'age', 'city', 'email']\n",
            "Values: ['pratiksha', 22, 'Dehradun', 'pratikshabahuguna25i@gmail.com']\n"
          ]
        }
      ]
    },
    {
      "cell_type": "code",
      "source": [
        "my_list = [11, 12, 13, 14,15]\n",
        "my_tuple = (20, 19, 18, 17, 16)\n",
        "my_list[4] = 25\n",
        "print(\"Modified list:\", my_list)\n",
        "try:\n",
        "    my_tuple[4] = 25\n",
        "except TypeError as e:\n",
        "    print(\"Error:\", e)\n",
        "print(\"Original tuple:\", my_tuple)"
      ],
      "metadata": {
        "colab": {
          "base_uri": "https://localhost:8080/"
        },
        "id": "6lxJGe2GSTWb",
        "outputId": "1497448e-aa4c-48ba-a88a-7ef8cd7794f3"
      },
      "execution_count": 4,
      "outputs": [
        {
          "output_type": "stream",
          "name": "stdout",
          "text": [
            "Modified list: [11, 12, 13, 14, 25]\n",
            "Error: 'tuple' object does not support item assignment\n",
            "Original tuple: (20, 19, 18, 17, 16)\n"
          ]
        }
      ]
    },
    {
      "cell_type": "code",
      "source": [
        "number = int(input(\"Enter a number to print its multiplication table: \"))\n",
        "for i in range(1, 11):\n",
        "    product = number * i\n",
        "    print(f\"{number} x {i} = {product}\")"
      ],
      "metadata": {
        "colab": {
          "base_uri": "https://localhost:8080/"
        },
        "id": "gcSQUMgcSdXX",
        "outputId": "fc1c8367-0014-48b4-d568-bd69573111d2"
      },
      "execution_count": 5,
      "outputs": [
        {
          "output_type": "stream",
          "name": "stdout",
          "text": [
            "Enter a number to print its multiplication table: 22\n",
            "22 x 1 = 22\n",
            "22 x 2 = 44\n",
            "22 x 3 = 66\n",
            "22 x 4 = 88\n",
            "22 x 5 = 110\n",
            "22 x 6 = 132\n",
            "22 x 7 = 154\n",
            "22 x 8 = 176\n",
            "22 x 9 = 198\n",
            "22 x 10 = 220\n"
          ]
        }
      ]
    },
    {
      "cell_type": "code",
      "source": [
        "def factorial(n):\n",
        "    if n < 0:\n",
        "        return \"Factorial is not defined for negative numbers.\"\n",
        "    elif n == 0:\n",
        "        return 1\n",
        "    else:\n",
        "        result = 1\n",
        "        for i in range(1, n + 1):\n",
        "            result *= i\n",
        "        return result\n",
        "number = int(input(\"Enter a number to find its factorial: \"))\n",
        "factorial_result = factorial(number)\n",
        "print(f\"The factorial of {number} is: {factorial_result}\")\n"
      ],
      "metadata": {
        "colab": {
          "base_uri": "https://localhost:8080/"
        },
        "id": "ej57oz-hSoAk",
        "outputId": "7703f9a7-0c18-4f78-a3d8-60acc8853492"
      },
      "execution_count": 6,
      "outputs": [
        {
          "output_type": "stream",
          "name": "stdout",
          "text": [
            "Enter a number to find its factorial: 10\n",
            "The factorial of 10 is: 3628800\n"
          ]
        }
      ]
    },
    {
      "cell_type": "code",
      "source": [
        "while True:\n",
        "\n",
        "    num1 = float(input(\"Enter the first number: \"))\n",
        "    num2 = float(input(\"Enter the second number: \"))\n",
        "\n",
        "\n",
        "    print(\"Choose an operation:\")\n",
        "    print(\"1. Addition (+)\")\n",
        "    print(\"2. Subtraction (-)\")\n",
        "    print(\"3. Multiplication (*)\")\n",
        "    print(\"4. Division (/)\")\n",
        "    print(\"5. Modulus (%)\")\n",
        "    print(\"6. Exit\")\n",
        "\n",
        "\n",
        "    choice = input(\"Enter your choice: \")\n",
        "\n",
        "\n",
        "    if choice == '1':\n",
        "        print(f\"The result of {num1} + {num2} is {num1 + num2}\")\n",
        "    elif choice == '2':\n",
        "        print(f\"The result of {num1} - {num2} is {num1 - num2}\")\n",
        "    elif choice == '3':\n",
        "        print(f\"The result of {num1} * {num2} is {num1 * num2}\")\n",
        "    elif choice == '4':\n",
        "        if num2 != 0:\n",
        "            print(f\"The result of {num1} / {num2} is {num1 / num2}\")\n",
        "        else:\n",
        "            print(\"Error: Division by zero is undefined.\")\n",
        "    elif choice == '5':\n",
        "        if num2 != 0:\n",
        "            print(f\"The result of {num1} % {num2} is {num1 % num2}\")\n",
        "        else:\n",
        "            print(\"Error: Modulus by zero is undefined.\")\n",
        "    elif choice == '6':\n",
        "        print(\"Exiting the calculator. Goodbye!\")\n",
        "        break\n",
        "    else:\n",
        "        print(\"Invalid choice. Please select a valid operation.\")\n"
      ],
      "metadata": {
        "colab": {
          "base_uri": "https://localhost:8080/"
        },
        "id": "tl60_7OrSyVN",
        "outputId": "ef15867d-9398-405d-8e92-65b02e345c21"
      },
      "execution_count": 7,
      "outputs": [
        {
          "output_type": "stream",
          "name": "stdout",
          "text": [
            "Enter the first number: 2\n",
            "Enter the second number: 3\n",
            "Choose an operation:\n",
            "1. Addition (+)\n",
            "2. Subtraction (-)\n",
            "3. Multiplication (*)\n",
            "4. Division (/)\n",
            "5. Modulus (%)\n",
            "6. Exit\n",
            "Enter your choice: 5\n",
            "The result of 2.0 % 3.0 is 2.0\n",
            "Enter the first number: 3\n",
            "Enter the second number: 9\n",
            "Choose an operation:\n",
            "1. Addition (+)\n",
            "2. Subtraction (-)\n",
            "3. Multiplication (*)\n",
            "4. Division (/)\n",
            "5. Modulus (%)\n",
            "6. Exit\n",
            "Enter your choice: 4\n",
            "The result of 3.0 / 9.0 is 0.3333333333333333\n",
            "Enter the first number: 5\n",
            "Enter the second number: 7\n",
            "Choose an operation:\n",
            "1. Addition (+)\n",
            "2. Subtraction (-)\n",
            "3. Multiplication (*)\n",
            "4. Division (/)\n",
            "5. Modulus (%)\n",
            "6. Exit\n",
            "Enter your choice: 6\n",
            "Exiting the calculator. Goodbye!\n"
          ]
        }
      ]
    },
    {
      "cell_type": "code",
      "source": [
        "sum_of_evens = 0\n",
        "for num in range(201, 301):\n",
        "    if num % 2 == 0:\n",
        "        sum_of_evens += num\n",
        "print(\"The sum of all even numbers between 201 and 300 is:\", sum_of_evens)"
      ],
      "metadata": {
        "colab": {
          "base_uri": "https://localhost:8080/"
        },
        "id": "M04aon44TGnp",
        "outputId": "fc9717f5-4c1c-467d-c3b5-f85111054915"
      },
      "execution_count": 8,
      "outputs": [
        {
          "output_type": "stream",
          "name": "stdout",
          "text": [
            "The sum of all even numbers between 201 and 300 is: 12550\n"
          ]
        }
      ]
    },
    {
      "cell_type": "code",
      "source": [
        "def is_prime(n):\n",
        "    if n <= 1:\n",
        "        return False\n",
        "    elif n == 2:\n",
        "        return True\n",
        "    elif n % 2 == 0:\n",
        "        return False\n",
        "    for i in range(3, int(n**0.5) + 1, 2):\n",
        "        if n % i == 0:\n",
        "            return False\n",
        "    return True\n",
        "number = int(input(\"Enter a number to check if it is prime: \"))\n",
        "if is_prime(number):\n",
        "    print(f\"{number} is a prime number.\")\n",
        "else:\n",
        "    print(f\"{number} is not a prime number.\")"
      ],
      "metadata": {
        "colab": {
          "base_uri": "https://localhost:8080/"
        },
        "id": "X7JXHA5sTOXT",
        "outputId": "ffbb64ca-c152-4af1-e3db-9cc8d88ffbbb"
      },
      "execution_count": 9,
      "outputs": [
        {
          "output_type": "stream",
          "name": "stdout",
          "text": [
            "Enter a number to check if it is prime: 87\n",
            "87 is not a prime number.\n"
          ]
        }
      ]
    }
  ]
}